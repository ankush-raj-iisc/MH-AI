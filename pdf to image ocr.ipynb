{
 "cells": [
  {
   "cell_type": "code",
   "execution_count": null,
   "metadata": {},
   "outputs": [],
   "source": [
    "from pdf2image import convert_from_path\n",
    "from PIL import Image\n",
    "import pytesseract\n"
   ]
  },
  {
   "attachments": {},
   "cell_type": "markdown",
   "metadata": {},
   "source": [
    "### The below cell can be used to convert PDF file to images ###"
   ]
  },
  {
   "cell_type": "code",
   "execution_count": null,
   "metadata": {},
   "outputs": [],
   "source": [
    "# convert PDF to list of images\n",
    "images = convert_from_path('./mypdf.pdf',poppler_path=\"C:/Users/dixit/Downloads/poppler-0.68.0_x86/poppler-0.68.0/bin\")\n",
    "\n",
    "# save each page as image file\n",
    "for i, image in enumerate(images):\n",
    "    image.save(f'page_{i}.png', 'PNG')\n"
   ]
  },
  {
   "attachments": {},
   "cell_type": "markdown",
   "metadata": {},
   "source": [
    "**Below cell can be used to extract text from the PDF using keras OCR**"
   ]
  },
  {
   "cell_type": "code",
   "execution_count": null,
   "metadata": {},
   "outputs": [],
   "source": [
    "# Import necessary libraries\n",
    "import cv2\n",
    "from PIL import Image\n",
    "from keras_ocr import pipeline\n",
    "\n",
    "# Define the OCR pipeline\n",
    "ocr_pipeline = pipeline.Pipeline()\n",
    "\n",
    "# Define the Tesseract configuration settings\n",
    "config = '--psm 4'\n",
    "\n",
    "# Iterate through the image files and apply OCR\n",
    "for i in range(len(images)):\n",
    "    # Open the image file\n",
    "    image_path = f'page_{i}.png'\n",
    "    image = cv2.imread(image_path)\n",
    "\n",
    "    # Apply OCR on the image and extract text\n",
    "    predictions = ocr_pipeline.recognize([image])\n",
    "    text = [text for text, box in predictions[0]]\n",
    "\n",
    "    # Print the extracted text\n",
    "    print('\\n'.join(text))\n"
   ]
  },
  {
   "attachments": {},
   "cell_type": "markdown",
   "metadata": {},
   "source": [
    "##### **Run this Block to delete all the generated png files** #####"
   ]
  },
  {
   "cell_type": "code",
   "execution_count": null,
   "metadata": {},
   "outputs": [],
   "source": [
    "import os\n",
    "# Delete all PNG files\n",
    "for filename in os.listdir('.'):\n",
    "    if filename.endswith('.png'):\n",
    "        os.remove(filename)"
   ]
  }
 ],
 "metadata": {
  "kernelspec": {
   "display_name": "Python 3",
   "language": "python",
   "name": "python3"
  },
  "language_info": {
   "codemirror_mode": {
    "name": "ipython",
    "version": 3
   },
   "file_extension": ".py",
   "mimetype": "text/x-python",
   "name": "python",
   "nbconvert_exporter": "python",
   "pygments_lexer": "ipython3",
   "version": "3.10.5"
  },
  "orig_nbformat": 4,
  "vscode": {
   "interpreter": {
    "hash": "326762c714f028ba9c02f33eebe76cd310608012c25e9bc666cf364275559dc6"
   }
  }
 },
 "nbformat": 4,
 "nbformat_minor": 2
}
