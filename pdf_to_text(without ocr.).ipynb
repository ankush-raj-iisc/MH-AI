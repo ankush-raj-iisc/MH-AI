{
 "cells": [
  {
   "cell_type": "code",
   "execution_count": null,
   "metadata": {},
   "outputs": [],
   "source": [
    "import PyPDF2\n",
    "pdf_file=f'Put your pdf file path here'\n",
    "# Open the PDF file in read binary mode\n",
    "with open(pdf_file, 'rb') as pdf_file:\n",
    "    # Create a PDF reader object\n",
    "    reader = PyPDF2.PdfReader(pdf_file)\n",
    "\n",
    "    # Initialize an empty string to store the extracted text\n",
    "    text = \"\"\n",
    "\n",
    "    # Iterate through each page in the PDF file\n",
    "    for page_num in range(len(reader.pages)):\n",
    "        # Get the page object\n",
    "        page_obj = reader.pages[page_num]\n",
    "\n",
    "        # Extract the text from the page object\n",
    "        page_text = page_obj.extract_text()\n",
    "\n",
    "        # Append the page text to the overall text\n",
    "        text += page_text\n",
    "\n",
    "# Print the extracted text\n",
    "print(text)\n"
   ]
  }
 ],
 "metadata": {
  "language_info": {
   "name": "python"
  },
  "orig_nbformat": 4
 },
 "nbformat": 4,
 "nbformat_minor": 2
}
